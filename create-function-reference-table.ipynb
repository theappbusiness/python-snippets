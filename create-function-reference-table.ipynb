{
 "cells": [
  {
   "cell_type": "markdown",
   "metadata": {},
   "source": [
    "# Extract function names, arguments, type hints and doc strings for reference"
   ]
  },
  {
   "cell_type": "markdown",
   "metadata": {},
   "source": [
    "#### Imports etc"
   ]
  },
  {
   "cell_type": "code",
   "execution_count": 1,
   "metadata": {},
   "outputs": [],
   "source": [
    "import inspect\n",
    "import pandas as pd\n",
    "import pprint"
   ]
  },
  {
   "cell_type": "markdown",
   "metadata": {},
   "source": [
    "#### Define functions"
   ]
  },
  {
   "cell_type": "code",
   "execution_count": 2,
   "metadata": {},
   "outputs": [],
   "source": [
    "def myfunc1(my_age: int, other_age: int):\n",
    "    \"\"\"\n",
    "    This is a function to compare 2 ages\n",
    "    \"\"\"\n",
    "    if my_age == other_age:\n",
    "        age_equal = True\n",
    "    else:\n",
    "        age_equal = False\n",
    "    return print(f'Age equal: {age_equal}')\n",
    "    \n",
    "def myfunc2(birth_town: str, country: str):\n",
    "    \"\"\"\n",
    "    This is a function to print the birth town and country of birth\n",
    "    \"\"\"\n",
    "    return print(f'I live in {birth_town} in {country}')"
   ]
  },
  {
   "cell_type": "markdown",
   "metadata": {},
   "source": [
    "#### Extract function metadata"
   ]
  },
  {
   "cell_type": "code",
   "execution_count": 14,
   "metadata": {},
   "outputs": [
    {
     "data": {
      "text/html": [
       "<div>\n",
       "<style scoped>\n",
       "    .dataframe tbody tr th:only-of-type {\n",
       "        vertical-align: middle;\n",
       "    }\n",
       "\n",
       "    .dataframe tbody tr th {\n",
       "        vertical-align: top;\n",
       "    }\n",
       "\n",
       "    .dataframe thead th {\n",
       "        text-align: right;\n",
       "    }\n",
       "</style>\n",
       "<table border=\"1\" class=\"dataframe\">\n",
       "  <thead>\n",
       "    <tr style=\"text-align: right;\">\n",
       "      <th></th>\n",
       "      <th>Name</th>\n",
       "      <th>Arguments and Type Hints</th>\n",
       "      <th>Docstring</th>\n",
       "    </tr>\n",
       "  </thead>\n",
       "  <tbody>\n",
       "    <tr>\n",
       "      <th>0</th>\n",
       "      <td>myfunc1</td>\n",
       "      <td>my_age: &lt;class 'int'&gt;, other_age: &lt;class 'int'&gt;</td>\n",
       "      <td>This is a function to compare 2 ages</td>\n",
       "    </tr>\n",
       "    <tr>\n",
       "      <th>1</th>\n",
       "      <td>myfunc2</td>\n",
       "      <td>birth_town: &lt;class 'str'&gt;, country: &lt;class 'str'&gt;</td>\n",
       "      <td>This is a function to print the birth town and...</td>\n",
       "    </tr>\n",
       "  </tbody>\n",
       "</table>\n",
       "</div>"
      ],
      "text/plain": [
       "      Name                           Arguments and Type Hints  \\\n",
       "0  myfunc1    my_age: <class 'int'>, other_age: <class 'int'>   \n",
       "1  myfunc2  birth_town: <class 'str'>, country: <class 'str'>   \n",
       "\n",
       "                                           Docstring  \n",
       "0               This is a function to compare 2 ages  \n",
       "1  This is a function to print the birth town and...  "
      ]
     },
     "execution_count": 14,
     "metadata": {},
     "output_type": "execute_result"
    }
   ],
   "source": [
    "# Get the current module (the module where your Jupyter Notebook is running)\n",
    "current_module = globals()\n",
    "\n",
    "# Initialize lists to store function information\n",
    "function_info = []\n",
    "\n",
    "# Filter and extract only functions\n",
    "functions = [item for item in current_module.items() if inspect.isfunction(item[1])]\n",
    "\n",
    "# Loop through the list of functions and gather information\n",
    "for name, function in functions:\n",
    "    if name not in ('main', 'open', 'function'):  # Exclude the 'main' function if it exists\n",
    "        # Get function docstring\n",
    "        docstring = inspect.getdoc(function)\n",
    "\n",
    "        # Get function signature (arguments and type hints)\n",
    "        signature = inspect.signature(function)\n",
    "        args_with_type_hints = []\n",
    "        type_hints = []\n",
    "        for param_name, param in signature.parameters.items():\n",
    "            arg_with_type_hint = f\"{param_name}: {param.annotation}\"\n",
    "            args_with_type_hints.append(arg_with_type_hint)\n",
    "\n",
    "        # Add the function information to the list\n",
    "        function_info.append({\n",
    "            \"Name\": name,\n",
    "            \"Arguments and Type Hints\": \", \".join(args_with_type_hints),\n",
    "            \"Docstring\": docstring\n",
    "        })\n",
    "\n",
    "# Create a DataFrame for the function information\n",
    "function_df = pd.DataFrame(function_info)\n",
    "\n",
    "# Display the DataFrame in the Jupyter Notebook\n",
    "function_df"
   ]
  }
 ],
 "metadata": {
  "kernelspec": {
   "display_name": "base",
   "language": "python",
   "name": "python3"
  },
  "language_info": {
   "codemirror_mode": {
    "name": "ipython",
    "version": 3
   },
   "file_extension": ".py",
   "mimetype": "text/x-python",
   "name": "python",
   "nbconvert_exporter": "python",
   "pygments_lexer": "ipython3",
   "version": "3.10.9"
  },
  "orig_nbformat": 4
 },
 "nbformat": 4,
 "nbformat_minor": 2
}
